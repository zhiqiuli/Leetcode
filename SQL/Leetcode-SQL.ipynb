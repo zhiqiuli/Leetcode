{
 "cells": [
  {
   "cell_type": "code",
   "execution_count": 1,
   "id": "52bfb9ef",
   "metadata": {},
   "outputs": [],
   "source": [
    "import pandas as pd"
   ]
  },
  {
   "cell_type": "code",
   "execution_count": 2,
   "id": "bc0e7cde",
   "metadata": {},
   "outputs": [],
   "source": [
    "df = pd.DataFrame({\n",
    "    'Company': ['A', 'A', 'A', 'B', 'B', 'B', 'B'],\n",
    "    'Model': ['A1', 'A2', 'A3', 'B1', 'B2', 'B3', 'B4'],\n",
    "    'Year': [2019, 2020, 2021, 2018, 2019, 2020, 2021],\n",
    "    'Transmission': ['Manual', 'Automatic', 'Automatic', 'Manual', 'Automatic', 'Automatic', 'Manual'],\n",
    "    'EngineSize': [1.4, 2.0, 1.4, 1.5, 2.0, 1.5, 1.5],\n",
    "    'MPG': [55.4, 67.3, 58.9, 52.3, 64.2, 68.9, 83.1]\n",
    "})"
   ]
  },
  {
   "cell_type": "code",
   "execution_count": 3,
   "id": "d88a561d",
   "metadata": {},
   "outputs": [
    {
     "data": {
      "text/html": [
       "<div>\n",
       "<style scoped>\n",
       "    .dataframe tbody tr th:only-of-type {\n",
       "        vertical-align: middle;\n",
       "    }\n",
       "\n",
       "    .dataframe tbody tr th {\n",
       "        vertical-align: top;\n",
       "    }\n",
       "\n",
       "    .dataframe thead th {\n",
       "        text-align: right;\n",
       "    }\n",
       "</style>\n",
       "<table border=\"1\" class=\"dataframe\">\n",
       "  <thead>\n",
       "    <tr style=\"text-align: right;\">\n",
       "      <th></th>\n",
       "      <th>Company</th>\n",
       "      <th>Model</th>\n",
       "      <th>Year</th>\n",
       "      <th>Transmission</th>\n",
       "      <th>EngineSize</th>\n",
       "      <th>MPG</th>\n",
       "    </tr>\n",
       "  </thead>\n",
       "  <tbody>\n",
       "    <tr>\n",
       "      <th>0</th>\n",
       "      <td>A</td>\n",
       "      <td>A1</td>\n",
       "      <td>2019</td>\n",
       "      <td>Manual</td>\n",
       "      <td>1.4</td>\n",
       "      <td>55.4</td>\n",
       "    </tr>\n",
       "    <tr>\n",
       "      <th>1</th>\n",
       "      <td>A</td>\n",
       "      <td>A2</td>\n",
       "      <td>2020</td>\n",
       "      <td>Automatic</td>\n",
       "      <td>2.0</td>\n",
       "      <td>67.3</td>\n",
       "    </tr>\n",
       "    <tr>\n",
       "      <th>2</th>\n",
       "      <td>A</td>\n",
       "      <td>A3</td>\n",
       "      <td>2021</td>\n",
       "      <td>Automatic</td>\n",
       "      <td>1.4</td>\n",
       "      <td>58.9</td>\n",
       "    </tr>\n",
       "    <tr>\n",
       "      <th>3</th>\n",
       "      <td>B</td>\n",
       "      <td>B1</td>\n",
       "      <td>2018</td>\n",
       "      <td>Manual</td>\n",
       "      <td>1.5</td>\n",
       "      <td>52.3</td>\n",
       "    </tr>\n",
       "    <tr>\n",
       "      <th>4</th>\n",
       "      <td>B</td>\n",
       "      <td>B2</td>\n",
       "      <td>2019</td>\n",
       "      <td>Automatic</td>\n",
       "      <td>2.0</td>\n",
       "      <td>64.2</td>\n",
       "    </tr>\n",
       "    <tr>\n",
       "      <th>5</th>\n",
       "      <td>B</td>\n",
       "      <td>B3</td>\n",
       "      <td>2020</td>\n",
       "      <td>Automatic</td>\n",
       "      <td>1.5</td>\n",
       "      <td>68.9</td>\n",
       "    </tr>\n",
       "    <tr>\n",
       "      <th>6</th>\n",
       "      <td>B</td>\n",
       "      <td>B4</td>\n",
       "      <td>2021</td>\n",
       "      <td>Manual</td>\n",
       "      <td>1.5</td>\n",
       "      <td>83.1</td>\n",
       "    </tr>\n",
       "  </tbody>\n",
       "</table>\n",
       "</div>"
      ],
      "text/plain": [
       "  Company Model  Year Transmission  EngineSize   MPG\n",
       "0       A    A1  2019       Manual         1.4  55.4\n",
       "1       A    A2  2020    Automatic         2.0  67.3\n",
       "2       A    A3  2021    Automatic         1.4  58.9\n",
       "3       B    B1  2018       Manual         1.5  52.3\n",
       "4       B    B2  2019    Automatic         2.0  64.2\n",
       "5       B    B3  2020    Automatic         1.5  68.9\n",
       "6       B    B4  2021       Manual         1.5  83.1"
      ]
     },
     "execution_count": 3,
     "metadata": {},
     "output_type": "execute_result"
    }
   ],
   "source": [
    "df"
   ]
  },
  {
   "cell_type": "code",
   "execution_count": 4,
   "id": "ef8849cc",
   "metadata": {},
   "outputs": [
    {
     "data": {
      "text/plain": [
       "Company\n",
       "A    55.4\n",
       "B    52.3\n",
       "Name: MPG, dtype: float64"
      ]
     },
     "execution_count": 4,
     "metadata": {},
     "output_type": "execute_result"
    }
   ],
   "source": [
    "# select the minimum for each company\n",
    "df.groupby('Company')['MPG'].min()"
   ]
  },
  {
   "cell_type": "code",
   "execution_count": null,
   "id": "07681e01",
   "metadata": {},
   "outputs": [],
   "source": []
  },
  {
   "cell_type": "code",
   "execution_count": null,
   "id": "66162636",
   "metadata": {},
   "outputs": [],
   "source": []
  },
  {
   "cell_type": "code",
   "execution_count": 5,
   "id": "8948573e",
   "metadata": {},
   "outputs": [],
   "source": [
    "df = pd.DataFrame({'A':['yes','yes','yes','yes','no','no','yes','yes','yes','no'],\n",
    "                   'B':['yes','no','no','no','yes','yes','no','yes','yes','no']})"
   ]
  },
  {
   "cell_type": "code",
   "execution_count": 6,
   "id": "9287efa2",
   "metadata": {},
   "outputs": [
    {
     "data": {
      "text/html": [
       "<div>\n",
       "<style scoped>\n",
       "    .dataframe tbody tr th:only-of-type {\n",
       "        vertical-align: middle;\n",
       "    }\n",
       "\n",
       "    .dataframe tbody tr th {\n",
       "        vertical-align: top;\n",
       "    }\n",
       "\n",
       "    .dataframe thead th {\n",
       "        text-align: right;\n",
       "    }\n",
       "</style>\n",
       "<table border=\"1\" class=\"dataframe\">\n",
       "  <thead>\n",
       "    <tr style=\"text-align: right;\">\n",
       "      <th></th>\n",
       "      <th>A</th>\n",
       "      <th>B</th>\n",
       "    </tr>\n",
       "  </thead>\n",
       "  <tbody>\n",
       "    <tr>\n",
       "      <th>0</th>\n",
       "      <td>yes</td>\n",
       "      <td>yes</td>\n",
       "    </tr>\n",
       "    <tr>\n",
       "      <th>1</th>\n",
       "      <td>yes</td>\n",
       "      <td>no</td>\n",
       "    </tr>\n",
       "    <tr>\n",
       "      <th>2</th>\n",
       "      <td>yes</td>\n",
       "      <td>no</td>\n",
       "    </tr>\n",
       "    <tr>\n",
       "      <th>3</th>\n",
       "      <td>yes</td>\n",
       "      <td>no</td>\n",
       "    </tr>\n",
       "    <tr>\n",
       "      <th>4</th>\n",
       "      <td>no</td>\n",
       "      <td>yes</td>\n",
       "    </tr>\n",
       "    <tr>\n",
       "      <th>5</th>\n",
       "      <td>no</td>\n",
       "      <td>yes</td>\n",
       "    </tr>\n",
       "    <tr>\n",
       "      <th>6</th>\n",
       "      <td>yes</td>\n",
       "      <td>no</td>\n",
       "    </tr>\n",
       "    <tr>\n",
       "      <th>7</th>\n",
       "      <td>yes</td>\n",
       "      <td>yes</td>\n",
       "    </tr>\n",
       "    <tr>\n",
       "      <th>8</th>\n",
       "      <td>yes</td>\n",
       "      <td>yes</td>\n",
       "    </tr>\n",
       "    <tr>\n",
       "      <th>9</th>\n",
       "      <td>no</td>\n",
       "      <td>no</td>\n",
       "    </tr>\n",
       "  </tbody>\n",
       "</table>\n",
       "</div>"
      ],
      "text/plain": [
       "     A    B\n",
       "0  yes  yes\n",
       "1  yes   no\n",
       "2  yes   no\n",
       "3  yes   no\n",
       "4   no  yes\n",
       "5   no  yes\n",
       "6  yes   no\n",
       "7  yes  yes\n",
       "8  yes  yes\n",
       "9   no   no"
      ]
     },
     "execution_count": 6,
     "metadata": {},
     "output_type": "execute_result"
    }
   ],
   "source": [
    "df"
   ]
  },
  {
   "cell_type": "code",
   "execution_count": 7,
   "id": "caf0bfed",
   "metadata": {},
   "outputs": [
    {
     "data": {
      "text/plain": [
       "A    B  \n",
       "no   no     1\n",
       "     yes    2\n",
       "yes  no     4\n",
       "     yes    3\n",
       "dtype: int64"
      ]
     },
     "execution_count": 7,
     "metadata": {},
     "output_type": "execute_result"
    }
   ],
   "source": [
    "df.groupby(['A','B']).size()"
   ]
  },
  {
   "cell_type": "code",
   "execution_count": 8,
   "id": "8f63b867",
   "metadata": {},
   "outputs": [
    {
     "data": {
      "text/html": [
       "<div>\n",
       "<style scoped>\n",
       "    .dataframe tbody tr th:only-of-type {\n",
       "        vertical-align: middle;\n",
       "    }\n",
       "\n",
       "    .dataframe tbody tr th {\n",
       "        vertical-align: top;\n",
       "    }\n",
       "\n",
       "    .dataframe thead th {\n",
       "        text-align: right;\n",
       "    }\n",
       "</style>\n",
       "<table border=\"1\" class=\"dataframe\">\n",
       "  <thead>\n",
       "    <tr style=\"text-align: right;\">\n",
       "      <th></th>\n",
       "      <th>A</th>\n",
       "      <th>B</th>\n",
       "      <th>0</th>\n",
       "    </tr>\n",
       "  </thead>\n",
       "  <tbody>\n",
       "    <tr>\n",
       "      <th>0</th>\n",
       "      <td>no</td>\n",
       "      <td>no</td>\n",
       "      <td>1</td>\n",
       "    </tr>\n",
       "    <tr>\n",
       "      <th>1</th>\n",
       "      <td>no</td>\n",
       "      <td>yes</td>\n",
       "      <td>2</td>\n",
       "    </tr>\n",
       "    <tr>\n",
       "      <th>2</th>\n",
       "      <td>yes</td>\n",
       "      <td>no</td>\n",
       "      <td>4</td>\n",
       "    </tr>\n",
       "    <tr>\n",
       "      <th>3</th>\n",
       "      <td>yes</td>\n",
       "      <td>yes</td>\n",
       "      <td>3</td>\n",
       "    </tr>\n",
       "  </tbody>\n",
       "</table>\n",
       "</div>"
      ],
      "text/plain": [
       "     A    B  0\n",
       "0   no   no  1\n",
       "1   no  yes  2\n",
       "2  yes   no  4\n",
       "3  yes  yes  3"
      ]
     },
     "execution_count": 8,
     "metadata": {},
     "output_type": "execute_result"
    }
   ],
   "source": [
    "# to restore the grouped columns, we call reset_index:\n",
    "df.groupby(['A','B']).size().reset_index()"
   ]
  },
  {
   "cell_type": "code",
   "execution_count": 9,
   "id": "25408590",
   "metadata": {},
   "outputs": [
    {
     "data": {
      "text/html": [
       "<div>\n",
       "<style scoped>\n",
       "    .dataframe tbody tr th:only-of-type {\n",
       "        vertical-align: middle;\n",
       "    }\n",
       "\n",
       "    .dataframe tbody tr th {\n",
       "        vertical-align: top;\n",
       "    }\n",
       "\n",
       "    .dataframe thead th {\n",
       "        text-align: right;\n",
       "    }\n",
       "</style>\n",
       "<table border=\"1\" class=\"dataframe\">\n",
       "  <thead>\n",
       "    <tr style=\"text-align: right;\">\n",
       "      <th></th>\n",
       "      <th>A</th>\n",
       "      <th>B</th>\n",
       "      <th>0</th>\n",
       "    </tr>\n",
       "  </thead>\n",
       "  <tbody>\n",
       "    <tr>\n",
       "      <th>0</th>\n",
       "      <td>no</td>\n",
       "      <td>no</td>\n",
       "      <td>1</td>\n",
       "    </tr>\n",
       "    <tr>\n",
       "      <th>1</th>\n",
       "      <td>no</td>\n",
       "      <td>yes</td>\n",
       "      <td>2</td>\n",
       "    </tr>\n",
       "    <tr>\n",
       "      <th>2</th>\n",
       "      <td>yes</td>\n",
       "      <td>yes</td>\n",
       "      <td>3</td>\n",
       "    </tr>\n",
       "    <tr>\n",
       "      <th>3</th>\n",
       "      <td>yes</td>\n",
       "      <td>no</td>\n",
       "      <td>4</td>\n",
       "    </tr>\n",
       "  </tbody>\n",
       "</table>\n",
       "</div>"
      ],
      "text/plain": [
       "     A    B  0\n",
       "0   no   no  1\n",
       "1   no  yes  2\n",
       "2  yes  yes  3\n",
       "3  yes   no  4"
      ]
     },
     "execution_count": 9,
     "metadata": {},
     "output_type": "execute_result"
    }
   ],
   "source": [
    "# alternatively you can use value_counts\n",
    "df.value_counts(ascending=True).reset_index()"
   ]
  },
  {
   "cell_type": "code",
   "execution_count": null,
   "id": "e851c4ff",
   "metadata": {},
   "outputs": [],
   "source": []
  },
  {
   "cell_type": "code",
   "execution_count": null,
   "id": "7abffad4",
   "metadata": {},
   "outputs": [],
   "source": []
  },
  {
   "cell_type": "code",
   "execution_count": 10,
   "id": "e95f8807",
   "metadata": {},
   "outputs": [],
   "source": [
    "df = pd.DataFrame({'seat_id':[1,2,3,4,5],\n",
    "                   'free'   :[1,0,1,1,1]})"
   ]
  },
  {
   "cell_type": "code",
   "execution_count": 11,
   "id": "d4ee8736",
   "metadata": {},
   "outputs": [
    {
     "data": {
      "text/html": [
       "<div>\n",
       "<style scoped>\n",
       "    .dataframe tbody tr th:only-of-type {\n",
       "        vertical-align: middle;\n",
       "    }\n",
       "\n",
       "    .dataframe tbody tr th {\n",
       "        vertical-align: top;\n",
       "    }\n",
       "\n",
       "    .dataframe thead th {\n",
       "        text-align: right;\n",
       "    }\n",
       "</style>\n",
       "<table border=\"1\" class=\"dataframe\">\n",
       "  <thead>\n",
       "    <tr style=\"text-align: right;\">\n",
       "      <th></th>\n",
       "      <th>seat_id</th>\n",
       "      <th>free</th>\n",
       "    </tr>\n",
       "  </thead>\n",
       "  <tbody>\n",
       "    <tr>\n",
       "      <th>0</th>\n",
       "      <td>1</td>\n",
       "      <td>1</td>\n",
       "    </tr>\n",
       "    <tr>\n",
       "      <th>1</th>\n",
       "      <td>2</td>\n",
       "      <td>0</td>\n",
       "    </tr>\n",
       "    <tr>\n",
       "      <th>2</th>\n",
       "      <td>3</td>\n",
       "      <td>1</td>\n",
       "    </tr>\n",
       "    <tr>\n",
       "      <th>3</th>\n",
       "      <td>4</td>\n",
       "      <td>1</td>\n",
       "    </tr>\n",
       "    <tr>\n",
       "      <th>4</th>\n",
       "      <td>5</td>\n",
       "      <td>1</td>\n",
       "    </tr>\n",
       "  </tbody>\n",
       "</table>\n",
       "</div>"
      ],
      "text/plain": [
       "   seat_id  free\n",
       "0        1     1\n",
       "1        2     0\n",
       "2        3     1\n",
       "3        4     1\n",
       "4        5     1"
      ]
     },
     "execution_count": 11,
     "metadata": {},
     "output_type": "execute_result"
    }
   ],
   "source": [
    "df"
   ]
  },
  {
   "cell_type": "code",
   "execution_count": 12,
   "id": "3e8a552e",
   "metadata": {},
   "outputs": [
    {
     "data": {
      "text/html": [
       "<div>\n",
       "<style scoped>\n",
       "    .dataframe tbody tr th:only-of-type {\n",
       "        vertical-align: middle;\n",
       "    }\n",
       "\n",
       "    .dataframe tbody tr th {\n",
       "        vertical-align: top;\n",
       "    }\n",
       "\n",
       "    .dataframe thead th {\n",
       "        text-align: right;\n",
       "    }\n",
       "</style>\n",
       "<table border=\"1\" class=\"dataframe\">\n",
       "  <thead>\n",
       "    <tr style=\"text-align: right;\">\n",
       "      <th></th>\n",
       "      <th>seat_id</th>\n",
       "      <th>free</th>\n",
       "    </tr>\n",
       "  </thead>\n",
       "  <tbody>\n",
       "  </tbody>\n",
       "</table>\n",
       "</div>"
      ],
      "text/plain": [
       "Empty DataFrame\n",
       "Columns: [seat_id, free]\n",
       "Index: []"
      ]
     },
     "execution_count": 12,
     "metadata": {},
     "output_type": "execute_result"
    }
   ],
   "source": [
    "df[abs(df['seat_id'] - df['seat_id']) == 1]"
   ]
  },
  {
   "cell_type": "code",
   "execution_count": 13,
   "id": "76319db9",
   "metadata": {},
   "outputs": [],
   "source": [
    "df['cons'] = df.apply(lambda row : row['free'], axis = 1)"
   ]
  },
  {
   "cell_type": "code",
   "execution_count": 14,
   "id": "5c1662a3",
   "metadata": {},
   "outputs": [],
   "source": [
    "avail = 0\n",
    "for index, row in df.iterrows():\n",
    "    if row['free'] == 0:\n",
    "        avail = 0\n",
    "    else:\n",
    "        avail += 1\n",
    "    "
   ]
  },
  {
   "cell_type": "code",
   "execution_count": null,
   "id": "03309ae8",
   "metadata": {},
   "outputs": [],
   "source": []
  },
  {
   "cell_type": "code",
   "execution_count": null,
   "id": "de1702d6",
   "metadata": {},
   "outputs": [],
   "source": []
  },
  {
   "cell_type": "code",
   "execution_count": 15,
   "id": "8c0684b7",
   "metadata": {},
   "outputs": [],
   "source": [
    "# 1179. Reformat Department Table"
   ]
  },
  {
   "cell_type": "code",
   "execution_count": 16,
   "id": "bb9055db",
   "metadata": {},
   "outputs": [],
   "source": [
    "Department = pd.DataFrame({'id'     :[1,2,3,1,1],\n",
    "                           'revenue':[8000,9000,10000,7000,6000],\n",
    "                           'month'  :['Jan','Jan','Feb','Feb','Mar']})"
   ]
  },
  {
   "cell_type": "code",
   "execution_count": 17,
   "id": "d4785440",
   "metadata": {},
   "outputs": [
    {
     "name": "stdout",
     "output_type": "stream",
     "text": [
      "   id  revenue month\n",
      "0   1     8000   Jan\n",
      "1   2     9000   Jan\n",
      "2   3    10000   Feb\n",
      "3   1     7000   Feb\n",
      "4   1     6000   Mar\n"
     ]
    }
   ],
   "source": [
    "print(Department)"
   ]
  },
  {
   "cell_type": "code",
   "execution_count": 18,
   "id": "b057cd8e",
   "metadata": {},
   "outputs": [],
   "source": [
    "Output = pd.DataFrame({'id' : Department['id'].unique()})"
   ]
  },
  {
   "cell_type": "code",
   "execution_count": 19,
   "id": "dc638d7f",
   "metadata": {},
   "outputs": [
    {
     "data": {
      "text/html": [
       "<div>\n",
       "<style scoped>\n",
       "    .dataframe tbody tr th:only-of-type {\n",
       "        vertical-align: middle;\n",
       "    }\n",
       "\n",
       "    .dataframe tbody tr th {\n",
       "        vertical-align: top;\n",
       "    }\n",
       "\n",
       "    .dataframe thead th {\n",
       "        text-align: right;\n",
       "    }\n",
       "</style>\n",
       "<table border=\"1\" class=\"dataframe\">\n",
       "  <thead>\n",
       "    <tr style=\"text-align: right;\">\n",
       "      <th></th>\n",
       "      <th>id</th>\n",
       "      <th>Jan_Revenue</th>\n",
       "      <th>month</th>\n",
       "    </tr>\n",
       "  </thead>\n",
       "  <tbody>\n",
       "    <tr>\n",
       "      <th>0</th>\n",
       "      <td>1</td>\n",
       "      <td>8000</td>\n",
       "      <td>Jan</td>\n",
       "    </tr>\n",
       "    <tr>\n",
       "      <th>1</th>\n",
       "      <td>2</td>\n",
       "      <td>9000</td>\n",
       "      <td>Jan</td>\n",
       "    </tr>\n",
       "  </tbody>\n",
       "</table>\n",
       "</div>"
      ],
      "text/plain": [
       "   id  Jan_Revenue month\n",
       "0   1         8000   Jan\n",
       "1   2         9000   Jan"
      ]
     },
     "execution_count": 19,
     "metadata": {},
     "output_type": "execute_result"
    }
   ],
   "source": [
    "Department[Department['month']=='Jan'].rename(columns={'revenue':'Jan_Revenue'})"
   ]
  },
  {
   "cell_type": "code",
   "execution_count": 20,
   "id": "f0e45baf",
   "metadata": {},
   "outputs": [],
   "source": [
    "for month in ['Jan', 'Feb', 'Mar']:\n",
    "    Output = pd.merge(\n",
    "                    Output,\n",
    "                    Department[Department['month']==month],\n",
    "                    how='left',\n",
    "                    on=['id']).drop(columns=['month']).rename(columns={'revenue':month+'_Revenue'})"
   ]
  },
  {
   "cell_type": "code",
   "execution_count": 21,
   "id": "4d8afa74",
   "metadata": {},
   "outputs": [
    {
     "data": {
      "text/html": [
       "<div>\n",
       "<style scoped>\n",
       "    .dataframe tbody tr th:only-of-type {\n",
       "        vertical-align: middle;\n",
       "    }\n",
       "\n",
       "    .dataframe tbody tr th {\n",
       "        vertical-align: top;\n",
       "    }\n",
       "\n",
       "    .dataframe thead th {\n",
       "        text-align: right;\n",
       "    }\n",
       "</style>\n",
       "<table border=\"1\" class=\"dataframe\">\n",
       "  <thead>\n",
       "    <tr style=\"text-align: right;\">\n",
       "      <th></th>\n",
       "      <th>id</th>\n",
       "      <th>Jan_Revenue</th>\n",
       "      <th>Feb_Revenue</th>\n",
       "      <th>Mar_Revenue</th>\n",
       "    </tr>\n",
       "  </thead>\n",
       "  <tbody>\n",
       "    <tr>\n",
       "      <th>0</th>\n",
       "      <td>1</td>\n",
       "      <td>8000.0</td>\n",
       "      <td>7000.0</td>\n",
       "      <td>6000.0</td>\n",
       "    </tr>\n",
       "    <tr>\n",
       "      <th>1</th>\n",
       "      <td>2</td>\n",
       "      <td>9000.0</td>\n",
       "      <td>NaN</td>\n",
       "      <td>NaN</td>\n",
       "    </tr>\n",
       "    <tr>\n",
       "      <th>2</th>\n",
       "      <td>3</td>\n",
       "      <td>NaN</td>\n",
       "      <td>10000.0</td>\n",
       "      <td>NaN</td>\n",
       "    </tr>\n",
       "  </tbody>\n",
       "</table>\n",
       "</div>"
      ],
      "text/plain": [
       "   id  Jan_Revenue  Feb_Revenue  Mar_Revenue\n",
       "0   1       8000.0       7000.0       6000.0\n",
       "1   2       9000.0          NaN          NaN\n",
       "2   3          NaN      10000.0          NaN"
      ]
     },
     "execution_count": 21,
     "metadata": {},
     "output_type": "execute_result"
    }
   ],
   "source": [
    "Output"
   ]
  },
  {
   "cell_type": "code",
   "execution_count": null,
   "id": "4947aab3",
   "metadata": {},
   "outputs": [],
   "source": []
  },
  {
   "cell_type": "code",
   "execution_count": 22,
   "id": "1e22b697",
   "metadata": {},
   "outputs": [],
   "source": [
    "# 1789. Primary Department for Each Employee"
   ]
  },
  {
   "cell_type": "code",
   "execution_count": 23,
   "id": "2ff8f30d",
   "metadata": {},
   "outputs": [],
   "source": [
    "Employee = pd.DataFrame({'employee_id':[1,2,2,3,4,4,4],\n",
    "                        'department_id':[1,1,2,3,2,3,4],\n",
    "                        'primary_flag':['N','Y','N','N','N','Y','N']})"
   ]
  },
  {
   "cell_type": "code",
   "execution_count": 24,
   "id": "147aaa92",
   "metadata": {},
   "outputs": [
    {
     "name": "stdout",
     "output_type": "stream",
     "text": [
      "   employee_id  department_id primary_flag\n",
      "0            1              1            N\n",
      "1            2              1            Y\n",
      "2            2              2            N\n",
      "3            3              3            N\n",
      "4            4              2            N\n",
      "5            4              3            Y\n",
      "6            4              4            N\n"
     ]
    }
   ],
   "source": [
    "print(Employee)"
   ]
  },
  {
   "cell_type": "code",
   "execution_count": 25,
   "id": "a84f818c",
   "metadata": {},
   "outputs": [],
   "source": [
    "tmp1 = Employee[Employee['primary_flag'] == 'Y']"
   ]
  },
  {
   "cell_type": "code",
   "execution_count": 26,
   "id": "47f04e66",
   "metadata": {},
   "outputs": [],
   "source": [
    "employee_list = tmp1['employee_id'].unique()"
   ]
  },
  {
   "cell_type": "code",
   "execution_count": 27,
   "id": "aefce1cf",
   "metadata": {},
   "outputs": [],
   "source": [
    "tmp2 = Employee[~Employee['employee_id'].isin(employee_list)]"
   ]
  },
  {
   "cell_type": "code",
   "execution_count": 28,
   "id": "45100bbe",
   "metadata": {},
   "outputs": [
    {
     "data": {
      "text/html": [
       "<div>\n",
       "<style scoped>\n",
       "    .dataframe tbody tr th:only-of-type {\n",
       "        vertical-align: middle;\n",
       "    }\n",
       "\n",
       "    .dataframe tbody tr th {\n",
       "        vertical-align: top;\n",
       "    }\n",
       "\n",
       "    .dataframe thead th {\n",
       "        text-align: right;\n",
       "    }\n",
       "</style>\n",
       "<table border=\"1\" class=\"dataframe\">\n",
       "  <thead>\n",
       "    <tr style=\"text-align: right;\">\n",
       "      <th></th>\n",
       "      <th>employee_id</th>\n",
       "      <th>department_id</th>\n",
       "      <th>primary_flag</th>\n",
       "    </tr>\n",
       "  </thead>\n",
       "  <tbody>\n",
       "    <tr>\n",
       "      <th>1</th>\n",
       "      <td>2</td>\n",
       "      <td>1</td>\n",
       "      <td>Y</td>\n",
       "    </tr>\n",
       "    <tr>\n",
       "      <th>5</th>\n",
       "      <td>4</td>\n",
       "      <td>3</td>\n",
       "      <td>Y</td>\n",
       "    </tr>\n",
       "  </tbody>\n",
       "</table>\n",
       "</div>"
      ],
      "text/plain": [
       "   employee_id  department_id primary_flag\n",
       "1            2              1            Y\n",
       "5            4              3            Y"
      ]
     },
     "execution_count": 28,
     "metadata": {},
     "output_type": "execute_result"
    }
   ],
   "source": [
    "tmp1"
   ]
  },
  {
   "cell_type": "code",
   "execution_count": 29,
   "id": "b43356e8",
   "metadata": {},
   "outputs": [
    {
     "data": {
      "text/html": [
       "<div>\n",
       "<style scoped>\n",
       "    .dataframe tbody tr th:only-of-type {\n",
       "        vertical-align: middle;\n",
       "    }\n",
       "\n",
       "    .dataframe tbody tr th {\n",
       "        vertical-align: top;\n",
       "    }\n",
       "\n",
       "    .dataframe thead th {\n",
       "        text-align: right;\n",
       "    }\n",
       "</style>\n",
       "<table border=\"1\" class=\"dataframe\">\n",
       "  <thead>\n",
       "    <tr style=\"text-align: right;\">\n",
       "      <th></th>\n",
       "      <th>employee_id</th>\n",
       "      <th>department_id</th>\n",
       "      <th>primary_flag</th>\n",
       "    </tr>\n",
       "  </thead>\n",
       "  <tbody>\n",
       "    <tr>\n",
       "      <th>0</th>\n",
       "      <td>1</td>\n",
       "      <td>1</td>\n",
       "      <td>N</td>\n",
       "    </tr>\n",
       "    <tr>\n",
       "      <th>3</th>\n",
       "      <td>3</td>\n",
       "      <td>3</td>\n",
       "      <td>N</td>\n",
       "    </tr>\n",
       "  </tbody>\n",
       "</table>\n",
       "</div>"
      ],
      "text/plain": [
       "   employee_id  department_id primary_flag\n",
       "0            1              1            N\n",
       "3            3              3            N"
      ]
     },
     "execution_count": 29,
     "metadata": {},
     "output_type": "execute_result"
    }
   ],
   "source": [
    "tmp2"
   ]
  },
  {
   "cell_type": "code",
   "execution_count": 30,
   "id": "59bb12db",
   "metadata": {},
   "outputs": [
    {
     "data": {
      "text/html": [
       "<div>\n",
       "<style scoped>\n",
       "    .dataframe tbody tr th:only-of-type {\n",
       "        vertical-align: middle;\n",
       "    }\n",
       "\n",
       "    .dataframe tbody tr th {\n",
       "        vertical-align: top;\n",
       "    }\n",
       "\n",
       "    .dataframe thead th {\n",
       "        text-align: right;\n",
       "    }\n",
       "</style>\n",
       "<table border=\"1\" class=\"dataframe\">\n",
       "  <thead>\n",
       "    <tr style=\"text-align: right;\">\n",
       "      <th></th>\n",
       "      <th>employee_id</th>\n",
       "      <th>department_id</th>\n",
       "      <th>primary_flag</th>\n",
       "    </tr>\n",
       "  </thead>\n",
       "  <tbody>\n",
       "    <tr>\n",
       "      <th>0</th>\n",
       "      <td>1</td>\n",
       "      <td>1</td>\n",
       "      <td>N</td>\n",
       "    </tr>\n",
       "    <tr>\n",
       "      <th>1</th>\n",
       "      <td>2</td>\n",
       "      <td>1</td>\n",
       "      <td>Y</td>\n",
       "    </tr>\n",
       "    <tr>\n",
       "      <th>3</th>\n",
       "      <td>3</td>\n",
       "      <td>3</td>\n",
       "      <td>N</td>\n",
       "    </tr>\n",
       "    <tr>\n",
       "      <th>5</th>\n",
       "      <td>4</td>\n",
       "      <td>3</td>\n",
       "      <td>Y</td>\n",
       "    </tr>\n",
       "  </tbody>\n",
       "</table>\n",
       "</div>"
      ],
      "text/plain": [
       "   employee_id  department_id primary_flag\n",
       "0            1              1            N\n",
       "1            2              1            Y\n",
       "3            3              3            N\n",
       "5            4              3            Y"
      ]
     },
     "execution_count": 30,
     "metadata": {},
     "output_type": "execute_result"
    }
   ],
   "source": [
    "pd.concat([tmp1, tmp2]).sort_values(['employee_id'])"
   ]
  },
  {
   "cell_type": "code",
   "execution_count": null,
   "id": "5fe5100d",
   "metadata": {},
   "outputs": [],
   "source": []
  },
  {
   "cell_type": "code",
   "execution_count": null,
   "id": "f8aecd90",
   "metadata": {},
   "outputs": [],
   "source": []
  },
  {
   "cell_type": "code",
   "execution_count": 31,
   "id": "784459b2",
   "metadata": {},
   "outputs": [
    {
     "name": "stdout",
     "output_type": "stream",
     "text": [
      "   id  score\n",
      "0   1   3.50\n",
      "1   2   3.65\n",
      "2   3   4.00\n",
      "3   4   3.85\n",
      "4   5   4.00\n",
      "5   6   3.65\n"
     ]
    }
   ],
   "source": [
    "# 178. Rank Scores\n",
    "Scores = pd.DataFrame({'id':[1,2,3,4,5,6],\n",
    "                       'score':[3.5,3.65,4.00,3.85,4.00,3.65]})\n",
    "print(Scores)"
   ]
  },
  {
   "cell_type": "code",
   "execution_count": 32,
   "id": "de45a4f1",
   "metadata": {},
   "outputs": [],
   "source": [
    "Scores.sort_values(['score'], ascending=False, inplace=True)"
   ]
  },
  {
   "cell_type": "code",
   "execution_count": 33,
   "id": "1c4075e1",
   "metadata": {},
   "outputs": [],
   "source": [
    "score_list = Scores.sort_values(['score'], ascending=False)['score'].unique()"
   ]
  },
  {
   "cell_type": "code",
   "execution_count": 34,
   "id": "aa3687aa",
   "metadata": {},
   "outputs": [],
   "source": [
    "Ranking = pd.DataFrame({'score': score_list,\n",
    "                        'rank' : [i+1 for i in range(len(score_list))]})"
   ]
  },
  {
   "cell_type": "code",
   "execution_count": 35,
   "id": "e753464b",
   "metadata": {},
   "outputs": [
    {
     "data": {
      "text/html": [
       "<div>\n",
       "<style scoped>\n",
       "    .dataframe tbody tr th:only-of-type {\n",
       "        vertical-align: middle;\n",
       "    }\n",
       "\n",
       "    .dataframe tbody tr th {\n",
       "        vertical-align: top;\n",
       "    }\n",
       "\n",
       "    .dataframe thead th {\n",
       "        text-align: right;\n",
       "    }\n",
       "</style>\n",
       "<table border=\"1\" class=\"dataframe\">\n",
       "  <thead>\n",
       "    <tr style=\"text-align: right;\">\n",
       "      <th></th>\n",
       "      <th>score</th>\n",
       "      <th>rank</th>\n",
       "    </tr>\n",
       "  </thead>\n",
       "  <tbody>\n",
       "    <tr>\n",
       "      <th>0</th>\n",
       "      <td>4.00</td>\n",
       "      <td>1</td>\n",
       "    </tr>\n",
       "    <tr>\n",
       "      <th>1</th>\n",
       "      <td>4.00</td>\n",
       "      <td>1</td>\n",
       "    </tr>\n",
       "    <tr>\n",
       "      <th>2</th>\n",
       "      <td>3.85</td>\n",
       "      <td>2</td>\n",
       "    </tr>\n",
       "    <tr>\n",
       "      <th>3</th>\n",
       "      <td>3.65</td>\n",
       "      <td>3</td>\n",
       "    </tr>\n",
       "    <tr>\n",
       "      <th>4</th>\n",
       "      <td>3.65</td>\n",
       "      <td>3</td>\n",
       "    </tr>\n",
       "    <tr>\n",
       "      <th>5</th>\n",
       "      <td>3.50</td>\n",
       "      <td>4</td>\n",
       "    </tr>\n",
       "  </tbody>\n",
       "</table>\n",
       "</div>"
      ],
      "text/plain": [
       "   score  rank\n",
       "0   4.00     1\n",
       "1   4.00     1\n",
       "2   3.85     2\n",
       "3   3.65     3\n",
       "4   3.65     3\n",
       "5   3.50     4"
      ]
     },
     "execution_count": 35,
     "metadata": {},
     "output_type": "execute_result"
    }
   ],
   "source": [
    "pd.merge(Scores, Ranking, on='score', how='left').drop(columns=['id'])"
   ]
  },
  {
   "cell_type": "code",
   "execution_count": null,
   "id": "0afeb3ec",
   "metadata": {},
   "outputs": [],
   "source": []
  },
  {
   "cell_type": "code",
   "execution_count": null,
   "id": "99474a52",
   "metadata": {},
   "outputs": [],
   "source": []
  },
  {
   "cell_type": "code",
   "execution_count": 36,
   "id": "ad0b6578",
   "metadata": {},
   "outputs": [],
   "source": [
    "# 511. Game Play Analysis I"
   ]
  },
  {
   "cell_type": "code",
   "execution_count": 37,
   "id": "97ac5096",
   "metadata": {},
   "outputs": [
    {
     "name": "stdout",
     "output_type": "stream",
     "text": [
      "   player_id  device_id  event_date  games_played\n",
      "0          1          2    20160301             5\n",
      "1          1          2    20160502             6\n",
      "2          2          3    20170625             1\n",
      "3          3          1    20160302             0\n",
      "4          3          4    20180703             5\n"
     ]
    }
   ],
   "source": [
    "Activity = pd.DataFrame({'player_id':[1,1,2,3,3],\n",
    "                         'device_id':[2,2,3,1,4],\n",
    "                         'event_date':[20160301,20160502,20170625,20160302,20180703],\n",
    "                         'games_played':[5,6,1,0,5]})\n",
    "print(Activity)"
   ]
  },
  {
   "cell_type": "code",
   "execution_count": 38,
   "id": "dd76884a",
   "metadata": {},
   "outputs": [
    {
     "data": {
      "text/html": [
       "<div>\n",
       "<style scoped>\n",
       "    .dataframe tbody tr th:only-of-type {\n",
       "        vertical-align: middle;\n",
       "    }\n",
       "\n",
       "    .dataframe tbody tr th {\n",
       "        vertical-align: top;\n",
       "    }\n",
       "\n",
       "    .dataframe thead th {\n",
       "        text-align: right;\n",
       "    }\n",
       "</style>\n",
       "<table border=\"1\" class=\"dataframe\">\n",
       "  <thead>\n",
       "    <tr style=\"text-align: right;\">\n",
       "      <th></th>\n",
       "      <th>player_id</th>\n",
       "      <th>first_login</th>\n",
       "    </tr>\n",
       "  </thead>\n",
       "  <tbody>\n",
       "    <tr>\n",
       "      <th>0</th>\n",
       "      <td>1</td>\n",
       "      <td>20160301</td>\n",
       "    </tr>\n",
       "    <tr>\n",
       "      <th>1</th>\n",
       "      <td>2</td>\n",
       "      <td>20170625</td>\n",
       "    </tr>\n",
       "    <tr>\n",
       "      <th>2</th>\n",
       "      <td>3</td>\n",
       "      <td>20160302</td>\n",
       "    </tr>\n",
       "  </tbody>\n",
       "</table>\n",
       "</div>"
      ],
      "text/plain": [
       "   player_id  first_login\n",
       "0          1     20160301\n",
       "1          2     20170625\n",
       "2          3     20160302"
      ]
     },
     "execution_count": 38,
     "metadata": {},
     "output_type": "execute_result"
    }
   ],
   "source": [
    "Activity.groupby('player_id')['event_date'].min().reset_index().rename(columns={'event_date':\n",
    "                                                                                'first_login'})"
   ]
  },
  {
   "cell_type": "code",
   "execution_count": null,
   "id": "43b947bf",
   "metadata": {},
   "outputs": [],
   "source": []
  },
  {
   "cell_type": "code",
   "execution_count": null,
   "id": "d9793b80",
   "metadata": {},
   "outputs": [],
   "source": []
  },
  {
   "cell_type": "code",
   "execution_count": 39,
   "id": "3e12fa18",
   "metadata": {},
   "outputs": [],
   "source": [
    "# 512. Game Play Analysis II"
   ]
  },
  {
   "cell_type": "code",
   "execution_count": 40,
   "id": "a3d06cfe",
   "metadata": {},
   "outputs": [
    {
     "name": "stdout",
     "output_type": "stream",
     "text": [
      "   player_id  device_id  event_date  games_played\n",
      "0          1          2    20160301             5\n",
      "1          1          2    20160502             6\n",
      "2          2          3    20170625             1\n",
      "3          3          1    20160302             0\n",
      "4          3          4    20180703             5\n"
     ]
    }
   ],
   "source": [
    "Activity = pd.DataFrame({'player_id':[1,1,2,3,3],\n",
    "                         'device_id':[2,2,3,1,4],\n",
    "                         'event_date':[20160301,20160502,20170625,20160302,20180703],\n",
    "                         'games_played':[5,6,1,0,5]})\n",
    "print(Activity)"
   ]
  },
  {
   "cell_type": "code",
   "execution_count": 41,
   "id": "c4146f36",
   "metadata": {},
   "outputs": [
    {
     "name": "stdout",
     "output_type": "stream",
     "text": [
      "   player_id  device_id  event_date  games_played\n",
      "0          1          2    20160301             5\n",
      "   player_id  device_id  event_date  games_played\n",
      "2          2          3    20170625             1\n",
      "   player_id  device_id  event_date  games_played\n",
      "3          3          1    20160302             0\n"
     ]
    }
   ],
   "source": [
    "tmp = Activity.groupby('player_id')['event_date'].min().reset_index().rename(columns={'event_date':\n",
    "                                                                                      'first_login'})\n",
    "\n",
    "for index, row in tmp.iterrows():\n",
    "    tmp_ = Activity[(Activity['player_id'] == row['player_id']) & (Activity['event_date'] == row['first_login'])]\n",
    "    print(tmp_)"
   ]
  },
  {
   "cell_type": "code",
   "execution_count": null,
   "id": "43a9b1f3",
   "metadata": {},
   "outputs": [],
   "source": []
  },
  {
   "cell_type": "code",
   "execution_count": null,
   "id": "1c891de8",
   "metadata": {},
   "outputs": [],
   "source": []
  },
  {
   "cell_type": "code",
   "execution_count": 42,
   "id": "efda68c1",
   "metadata": {},
   "outputs": [],
   "source": [
    "# 184. Department Highest Salary"
   ]
  },
  {
   "cell_type": "code",
   "execution_count": 46,
   "id": "7e8915d8",
   "metadata": {},
   "outputs": [
    {
     "name": "stdout",
     "output_type": "stream",
     "text": [
      "   player_id   name  salary  departmentId\n",
      "0          1    joe      80             1\n",
      "1          2    jim      90             1\n",
      "2          3  henry      80             2\n",
      "3          4    sam      60             2\n",
      "4          5    max      90             1\n"
     ]
    }
   ],
   "source": [
    "Employee = pd.DataFrame({'player_id':[1,2,3,4,5],\n",
    "                         'name':['joe','jim','henry','sam','max'],\n",
    "                         'salary':[80,90,80,60,90],\n",
    "                         'departmentId':[1,1,2,2,1]})\n",
    "print(Employee)"
   ]
  },
  {
   "cell_type": "code",
   "execution_count": 47,
   "id": "b92b5c07",
   "metadata": {},
   "outputs": [
    {
     "name": "stdout",
     "output_type": "stream",
     "text": [
      "   departmentId  salary\n",
      "0             1      90\n",
      "1             2      80\n"
     ]
    }
   ],
   "source": [
    "tmp = Employee.groupby('departmentId')['salary'].max().reset_index()\n",
    "print(tmp)"
   ]
  },
  {
   "cell_type": "code",
   "execution_count": 52,
   "id": "354f1188",
   "metadata": {},
   "outputs": [
    {
     "name": "stdout",
     "output_type": "stream",
     "text": [
      "   player_id name  salary  departmentId\n",
      "1          2  jim      90             1\n",
      "4          5  max      90             1\n",
      "   player_id   name  salary  departmentId\n",
      "2          3  henry      80             2\n"
     ]
    }
   ],
   "source": [
    "for index, row in tmp.iterrows():\n",
    "    tmp_ = Employee[(Employee['departmentId'] == row['departmentId']) &\n",
    "                    (Employee['salary'] == row['salary'])]\n",
    "    print(tmp_)"
   ]
  },
  {
   "cell_type": "code",
   "execution_count": null,
   "id": "0598796b",
   "metadata": {},
   "outputs": [],
   "source": []
  },
  {
   "cell_type": "code",
   "execution_count": null,
   "id": "d6454d33",
   "metadata": {},
   "outputs": [],
   "source": []
  },
  {
   "cell_type": "code",
   "execution_count": null,
   "id": "9f45d193",
   "metadata": {},
   "outputs": [],
   "source": [
    "# 1511. Customer Order Frequency"
   ]
  },
  {
   "cell_type": "code",
   "execution_count": 56,
   "id": "075fcff7",
   "metadata": {},
   "outputs": [],
   "source": [
    "Customers = pd.DataFrame({'customer_id':[1,2,3],\n",
    "                          'name':['Winston','Jonathan','Moustafa'],\n",
    "                          'country':['USA','Peru','Egypt']})\n",
    "Product = pd.DataFrame({'product_id':[10,20,30,40],\n",
    "                        'price':[300,10,45,2]})\n",
    "Orders = pd.DataFrame({'order_id':[1,2,3,4,5,6,7,9],\n",
    "                       'customer_id':[1,1,1,2,2,3,3,3],\n",
    "                       'product_id':[10,20,30,10,40,20,30,30],\n",
    "                       'order_date':['2020-06-10','2020-07-01','2020-07-08','2020-06-15','2020-07-01','2020-06-24','2020-06-25','2020-05-08'],\n",
    "                       'quantity':[1,1,2,2,10,2,2,3]})"
   ]
  },
  {
   "cell_type": "code",
   "execution_count": 62,
   "id": "8da74fec",
   "metadata": {},
   "outputs": [],
   "source": [
    "Master = pd.merge(Orders, Product, how='left', on='product_id')"
   ]
  },
  {
   "cell_type": "code",
   "execution_count": 63,
   "id": "4c1245a9",
   "metadata": {},
   "outputs": [
    {
     "name": "stdout",
     "output_type": "stream",
     "text": [
      "   order_id  customer_id  product_id  order_date  quantity  price      name  \\\n",
      "0         1            1          10  2020-06-10         1    300   Winston   \n",
      "1         2            1          20  2020-07-01         1     10   Winston   \n",
      "2         3            1          30  2020-07-08         2     45   Winston   \n",
      "3         4            2          10  2020-06-15         2    300  Jonathan   \n",
      "4         5            2          40  2020-07-01        10      2  Jonathan   \n",
      "5         6            3          20  2020-06-24         2     10  Moustafa   \n",
      "6         7            3          30  2020-06-25         2     45  Moustafa   \n",
      "7         9            3          30  2020-05-08         3     45  Moustafa   \n",
      "\n",
      "  country  \n",
      "0     USA  \n",
      "1     USA  \n",
      "2     USA  \n",
      "3    Peru  \n",
      "4    Peru  \n",
      "5   Egypt  \n",
      "6   Egypt  \n",
      "7   Egypt  \n"
     ]
    }
   ],
   "source": [
    "Master = pd.merge(Master, Customers, how='left', on='customer_id')\n",
    "print(Master)"
   ]
  },
  {
   "cell_type": "code",
   "execution_count": 89,
   "id": "d272908c",
   "metadata": {},
   "outputs": [
    {
     "name": "stdout",
     "output_type": "stream",
     "text": [
      "   order_id  customer_id  product_id  order_date  quantity  price      name  \\\n",
      "0         1            1          10  2020-06-10         1    300   Winston   \n",
      "1         2            1          20  2020-07-01         1     10   Winston   \n",
      "2         3            1          30  2020-07-08         2     45   Winston   \n",
      "3         4            2          10  2020-06-15         2    300  Jonathan   \n",
      "4         5            2          40  2020-07-01        10      2  Jonathan   \n",
      "5         6            3          20  2020-06-24         2     10  Moustafa   \n",
      "6         7            3          30  2020-06-25         2     45  Moustafa   \n",
      "7         9            3          30  2020-05-08         3     45  Moustafa   \n",
      "\n",
      "  country  TotalPrice  \n",
      "0     USA         300  \n",
      "1     USA          10  \n",
      "2     USA          90  \n",
      "3    Peru         600  \n",
      "4    Peru          20  \n",
      "5   Egypt          20  \n",
      "6   Egypt          90  \n",
      "7   Egypt         135  \n"
     ]
    }
   ],
   "source": [
    "Master['TotalPrice'] = Master.apply(lambda row: row['price'] * row['quantity'], axis = 1)\n",
    "print(Master)"
   ]
  },
  {
   "cell_type": "code",
   "execution_count": 95,
   "id": "080e320c",
   "metadata": {},
   "outputs": [],
   "source": [
    "t1 = Master[(Master['order_date'] >= '2020-06-01') & (Master['order_date'] <= '2020-06-30')].groupby('name').sum().reset_index()"
   ]
  },
  {
   "cell_type": "code",
   "execution_count": 103,
   "id": "93ba62eb",
   "metadata": {},
   "outputs": [
    {
     "data": {
      "text/html": [
       "<div>\n",
       "<style scoped>\n",
       "    .dataframe tbody tr th:only-of-type {\n",
       "        vertical-align: middle;\n",
       "    }\n",
       "\n",
       "    .dataframe tbody tr th {\n",
       "        vertical-align: top;\n",
       "    }\n",
       "\n",
       "    .dataframe thead th {\n",
       "        text-align: right;\n",
       "    }\n",
       "</style>\n",
       "<table border=\"1\" class=\"dataframe\">\n",
       "  <thead>\n",
       "    <tr style=\"text-align: right;\">\n",
       "      <th></th>\n",
       "      <th>name</th>\n",
       "      <th>TotalPrice</th>\n",
       "    </tr>\n",
       "  </thead>\n",
       "  <tbody>\n",
       "    <tr>\n",
       "      <th>0</th>\n",
       "      <td>Jonathan</td>\n",
       "      <td>600</td>\n",
       "    </tr>\n",
       "    <tr>\n",
       "      <th>1</th>\n",
       "      <td>Moustafa</td>\n",
       "      <td>110</td>\n",
       "    </tr>\n",
       "    <tr>\n",
       "      <th>2</th>\n",
       "      <td>Winston</td>\n",
       "      <td>300</td>\n",
       "    </tr>\n",
       "  </tbody>\n",
       "</table>\n",
       "</div>"
      ],
      "text/plain": [
       "       name  TotalPrice\n",
       "0  Jonathan         600\n",
       "1  Moustafa         110\n",
       "2   Winston         300"
      ]
     },
     "execution_count": 103,
     "metadata": {},
     "output_type": "execute_result"
    }
   ],
   "source": [
    "t1[t1['TotalPrice'] >= 100][['name','TotalPrice']]"
   ]
  },
  {
   "cell_type": "code",
   "execution_count": 97,
   "id": "9e9939c5",
   "metadata": {},
   "outputs": [],
   "source": [
    "t2 = Master[(Master['order_date'] >= '2020-07-01') & (Master['order_date'] <= '2020-07-31')].groupby('name').sum().reset_index()"
   ]
  },
  {
   "cell_type": "code",
   "execution_count": 104,
   "id": "b94583d2",
   "metadata": {},
   "outputs": [
    {
     "data": {
      "text/html": [
       "<div>\n",
       "<style scoped>\n",
       "    .dataframe tbody tr th:only-of-type {\n",
       "        vertical-align: middle;\n",
       "    }\n",
       "\n",
       "    .dataframe tbody tr th {\n",
       "        vertical-align: top;\n",
       "    }\n",
       "\n",
       "    .dataframe thead th {\n",
       "        text-align: right;\n",
       "    }\n",
       "</style>\n",
       "<table border=\"1\" class=\"dataframe\">\n",
       "  <thead>\n",
       "    <tr style=\"text-align: right;\">\n",
       "      <th></th>\n",
       "      <th>name</th>\n",
       "      <th>TotalPrice</th>\n",
       "    </tr>\n",
       "  </thead>\n",
       "  <tbody>\n",
       "    <tr>\n",
       "      <th>1</th>\n",
       "      <td>Winston</td>\n",
       "      <td>100</td>\n",
       "    </tr>\n",
       "  </tbody>\n",
       "</table>\n",
       "</div>"
      ],
      "text/plain": [
       "      name  TotalPrice\n",
       "1  Winston         100"
      ]
     },
     "execution_count": 104,
     "metadata": {},
     "output_type": "execute_result"
    }
   ],
   "source": [
    "t2[t2['TotalPrice'] >= 100][['name','TotalPrice']]"
   ]
  },
  {
   "cell_type": "code",
   "execution_count": 106,
   "id": "92931db0",
   "metadata": {},
   "outputs": [],
   "source": [
    "namelist = pd.merge(t1[t1['TotalPrice'] >= 100], t2[t2['TotalPrice'] >= 100], how='inner', on='name')['name']"
   ]
  },
  {
   "cell_type": "code",
   "execution_count": 111,
   "id": "89580898",
   "metadata": {},
   "outputs": [
    {
     "data": {
      "text/html": [
       "<div>\n",
       "<style scoped>\n",
       "    .dataframe tbody tr th:only-of-type {\n",
       "        vertical-align: middle;\n",
       "    }\n",
       "\n",
       "    .dataframe tbody tr th {\n",
       "        vertical-align: top;\n",
       "    }\n",
       "\n",
       "    .dataframe thead th {\n",
       "        text-align: right;\n",
       "    }\n",
       "</style>\n",
       "<table border=\"1\" class=\"dataframe\">\n",
       "  <thead>\n",
       "    <tr style=\"text-align: right;\">\n",
       "      <th></th>\n",
       "      <th>customer_id</th>\n",
       "      <th>name</th>\n",
       "    </tr>\n",
       "  </thead>\n",
       "  <tbody>\n",
       "    <tr>\n",
       "      <th>0</th>\n",
       "      <td>1</td>\n",
       "      <td>Winston</td>\n",
       "    </tr>\n",
       "  </tbody>\n",
       "</table>\n",
       "</div>"
      ],
      "text/plain": [
       "   customer_id     name\n",
       "0            1  Winston"
      ]
     },
     "execution_count": 111,
     "metadata": {},
     "output_type": "execute_result"
    }
   ],
   "source": [
    "Customers[Customers['name'].isin(namelist)][['customer_id','name']]"
   ]
  },
  {
   "cell_type": "code",
   "execution_count": null,
   "id": "b0e7995e",
   "metadata": {},
   "outputs": [],
   "source": []
  }
 ],
 "metadata": {
  "kernelspec": {
   "display_name": "Python 3",
   "language": "python",
   "name": "python3"
  },
  "language_info": {
   "codemirror_mode": {
    "name": "ipython",
    "version": 3
   },
   "file_extension": ".py",
   "mimetype": "text/x-python",
   "name": "python",
   "nbconvert_exporter": "python",
   "pygments_lexer": "ipython3",
   "version": "3.8.8"
  }
 },
 "nbformat": 4,
 "nbformat_minor": 5
}
